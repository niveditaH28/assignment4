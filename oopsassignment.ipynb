{
  "nbformat": 4,
  "nbformat_minor": 0,
  "metadata": {
    "colab": {
      "provenance": []
    },
    "kernelspec": {
      "name": "python3",
      "display_name": "Python 3"
    },
    "language_info": {
      "name": "python"
    }
  },
  "cells": [
    {
      "cell_type": "code",
      "execution_count": null,
      "metadata": {
        "colab": {
          "base_uri": "https://localhost:8080/"
        },
        "id": "vkh76KH-SWG8",
        "outputId": "940f2ef2-e974-4ac9-8199-796b062c7f2a"
      },
      "outputs": [
        {
          "output_type": "stream",
          "name": "stdout",
          "text": [
            "the animal makes a sound\n",
            "bark!\n"
          ]
        }
      ],
      "source": [
        "#1. Create a parent class Animal with a method speak() that prints a generic message. Create a child class Dog\n",
        "#that overrides the speak() method to print \"Bark!\".\n",
        "class Animal:\n",
        "    def speak(self):\n",
        "      print(\"the animal makes a sound\")\n",
        "\n",
        "class dog:\n",
        "   def speak(self):\n",
        "    print(\"bark!\")\n",
        "\n",
        "if __name__ == \"__main__\":\n",
        "  generic_animal =Animal()\n",
        "  generic_animal.speak()\n",
        "  dog= dog()\n",
        "  dog.speak()"
      ]
    },
    {
      "cell_type": "code",
      "source": [
        "#Write a program to create an abstract class Shape with a method area(). Derive classes Circle and Rectangle\n",
        "#from it and implement the area() method in both.\n",
        "\n",
        "from abc import ABC, abstractmethod\n",
        "\n",
        "class Shape(ABC):\n",
        "    @abstractmethod\n",
        "    def area(self):\n",
        "        pass\n",
        "\n",
        "class Circle(Shape):\n",
        "    def __init__(self, radius):\n",
        "        self.radius = radius\n",
        "\n",
        "    def area(self):\n",
        "        return 3.14159 * (self.radius ** 2)\n",
        "\n",
        "class Rectangle(Shape):\n",
        "    def __init__(self, width, height):\n",
        "        self.width = width\n",
        "        self.height = height\n",
        "\n",
        "    def area(self):\n",
        "        return self.width * self.height\n",
        "\n",
        "# Example usage\n",
        "if __name__ == \"__main__\":\n",
        "    circle = Circle(5)\n",
        "    print(f\"Area of the circle: {circle.area()}\")  # Output: Area of the circle: 78.53975\n",
        "\n",
        "    rectangle = Rectangle(4, 6)\n",
        "    print(f\"Area of the rectangle: {rectangle.area()}\")  # Output: Area of the rectangle: 24\n"
      ],
      "metadata": {
        "colab": {
          "base_uri": "https://localhost:8080/"
        },
        "id": "fbnh-lHxSdw_",
        "outputId": "457bffd7-6aea-4016-d064-b6e3dea334d2"
      },
      "execution_count": null,
      "outputs": [
        {
          "output_type": "stream",
          "name": "stdout",
          "text": [
            "Area of the circle: 78.53975\n",
            "Area of the rectangle: 24\n"
          ]
        }
      ]
    },
    {
      "cell_type": "code",
      "source": [
        "#. Implement a multi-level inheritance scenario where a class Vehicle has an attribute type. Derive a class Car\n",
        "#and further derive a class ElectricCar that adds a battery attribute.\n",
        "\n",
        "class Vehicle:\n",
        "    def __init__(self, vehicle_type):\n",
        "        self.vehicle_type = vehicle_type\n",
        "\n",
        "    def show_type(self):\n",
        "        print(f\"Vehicle type: {self.vehicle_type}\")\n",
        "\n",
        "class Car(Vehicle):\n",
        "    def __init__(self, vehicle_type, brand):\n",
        "        super().__init__(vehicle_type)\n",
        "        self.brand = brand\n",
        "\n",
        "    def show_brand(self):\n",
        "        print(f\"Car brand: {self.brand}\")\n",
        "\n",
        "class ElectricCar(Car):\n",
        "    def __init__(self, vehicle_type, brand, battery_capacity):\n",
        "        super().__init__(vehicle_type, brand)\n",
        "        self.battery_capacity = battery_capacity\n",
        "\n",
        "    def show_battery(self):\n",
        "        print(f\"Battery capacity: {self.battery_capacity} kWh\")\n",
        "\n",
        "# Example usage\n",
        "if __name__ == \"__main__\":\n",
        "    vehicle = Vehicle(\"General Vehicle\")\n",
        "    vehicle.show_type()  # Output: Vehicle type: General Vehicle\n",
        "\n",
        "    car = Car(\"Car\", \"Toyota\")\n",
        "    car.show_type()  # Output: Vehicle type: Car\n",
        "    car.show_brand()  # Output: Car brand: Toyota\n",
        "\n",
        "    electric_car = ElectricCar(\"Electric Car\", \"Tesla\", 75)\n",
        "    electric_car.show_type()  # Output: Vehicle type: Electric Car\n",
        "    electric_car.show_brand()  # Output: Car brand: Tesla\n",
        "    electric_car.show_battery()  # Output: Battery capacity: 75 kWh\n",
        "\n"
      ],
      "metadata": {
        "id": "Ugu0y-z0XXHJ"
      },
      "execution_count": null,
      "outputs": []
    },
    {
      "cell_type": "code",
      "source": [
        "#5. Write a program to demonstrate encapsulation by creating a class BankAccount with private attributes\n",
        "#balance and methods to deposit, withdraw, and check balance\n",
        "\n",
        "class BankAccount:\n",
        "    def __init__(self, account_holder, initial_balance=0):\n",
        "        self.__balance = initial_balance  # Private attribute\n",
        "        self.account_holder = account_holder\n",
        "\n",
        "    def deposit(self, amount):\n",
        "        if amount > 0:\n",
        "            self.__balance += amount\n",
        "            print(f\"Deposited: {amount}\")\n",
        "        else:\n",
        "            print(\"Deposit amount must be positive.\")\n",
        "\n",
        "    def withdraw(self, amount):\n",
        "        if 0 < amount <= self.__balance:\n",
        "            self.__balance -= amount\n",
        "            print(f\"Withdrawn: {amount}\")\n",
        "        else:\n",
        "            print(\"Invalid withdrawal amount or insufficient funds.\")\n",
        "\n",
        "    def check_balance(self):\n",
        "        print(f\"Current balance: {self.__balance}\")\n",
        "\n",
        "# Example usage\n",
        "if __name__ == \"__main__\":\n",
        "    account = BankAccount(\"John Doe\", 1000)\n",
        "    print(f\"Account Holder: {account.account_holder}\")\n"
      ],
      "metadata": {
        "colab": {
          "base_uri": "https://localhost:8080/"
        },
        "id": "Vvy5wtTkaDhk",
        "outputId": "a6814538-965b-44b4-d180-656118678fd2"
      },
      "execution_count": null,
      "outputs": [
        {
          "output_type": "stream",
          "name": "stdout",
          "text": [
            "Account Holder: John Doe\n"
          ]
        }
      ]
    },
    {
      "cell_type": "code",
      "source": [
        "#Demonstrate runtime polymorphism using a method play() in a base class Instrument. Derive classes Guitar\n",
        "#and Piano that implement their own version of play().\n",
        "\n",
        "class instrument:\n",
        "      def play(self):\n",
        "        print(\"the sound of the instrument\")\n",
        "class guitar(instrument):\n",
        "   def play(self):\n",
        "    print(\"tring tring\")\n",
        "class piano(instrument):\n",
        " def play(self):\n",
        "  print(\"tin tin\")\n",
        "\n",
        "\n",
        "if __name__== \"__main__\":\n",
        "  generic_instrument=instrument()\n",
        "  generic_instrument.play()\n",
        "  guitar=guitar()\n",
        "  guitar.play()\n",
        "  piano=piano()\n",
        "  piano.play()\n",
        "\n",
        "\n",
        "\n",
        "\n"
      ],
      "metadata": {
        "colab": {
          "base_uri": "https://localhost:8080/"
        },
        "id": "uAtt0tuy87Ax",
        "outputId": "069fcea4-5b64-498e-b4b8-bd51ca8b1b84"
      },
      "execution_count": null,
      "outputs": [
        {
          "output_type": "stream",
          "name": "stdout",
          "text": [
            "the sound of the instrument\n",
            "tring tring\n",
            "tin tin\n"
          ]
        }
      ]
    },
    {
      "cell_type": "code",
      "source": [
        "# Create a class MathOperations with a class method add_numbers() to add two numbers and a static\n",
        "# method subtract_numbers() to subtract two numbers.\n",
        "\n",
        "class mathoperations:\n",
        "   @classmethod\n",
        "   def add_numbers(cls,a,b):\n",
        "     d=a+b\n",
        "     return d\n",
        "\n",
        "   @staticmethod\n",
        "   def subtract_numbers(a,b):\n",
        "    return a-b\n",
        "\n",
        "print(mathoperations.add_numbers(2,3))\n",
        "print(mathoperations.subtract_numbers(2,3))"
      ],
      "metadata": {
        "colab": {
          "base_uri": "https://localhost:8080/"
        },
        "id": "nYeBkEY7B3f3",
        "outputId": "90646576-3ab1-417f-b897-92c7741869d4"
      },
      "execution_count": null,
      "outputs": [
        {
          "output_type": "stream",
          "name": "stdout",
          "text": [
            "5\n",
            "-1\n"
          ]
        }
      ]
    },
    {
      "cell_type": "code",
      "source": [
        "# Implement a class Person with a class method to count the total number of persons created.\n",
        "\n",
        "class Person:\n",
        "    # Class variable to track the count of persons\n",
        "    count = 0\n",
        "\n",
        "    def __init__(self, name):\n",
        "        self.name = name\n",
        "        Person.increment_count()\n",
        "\n",
        "    @classmethod\n",
        "    def increment_count(cls):\n",
        "        \"\"\"Increment the total count of persons created.\"\"\"\n",
        "        cls.count += 1\n",
        "\n",
        "    @classmethod\n",
        "    def get_count(cls):\n",
        "        \"\"\"Return the total number of persons created.\"\"\"\n",
        "        return cls.count\n",
        "\n",
        "# Example Usage\n",
        "if __name__ == \"__main__\":\n",
        "    p1 = Person(\"Alice\")\n",
        "    p2 = Person(\"Bob\")\n",
        "    p3 = Person(\"Charlie\")\n",
        "\n",
        "    print(f\"Total persons created: {Person.get_count()}\")  # Output: Total persons created: 3\n"
      ],
      "metadata": {
        "colab": {
          "base_uri": "https://localhost:8080/"
        },
        "id": "IQBQiPk1F5Bo",
        "outputId": "33585e15-6ea8-4341-ff5c-3b8d03906021"
      },
      "execution_count": null,
      "outputs": [
        {
          "output_type": "stream",
          "name": "stdout",
          "text": [
            "Total persons created: 3\n"
          ]
        }
      ]
    },
    {
      "cell_type": "code",
      "source": [
        "# Write a class Fraction with attributes numerator and denominator. Override the str method to display the\n",
        "#fraction as \"numerator/denominator\".\n",
        "\n",
        "class fraction:\n",
        "  def __init__(self,numerator,denominator):\n",
        "    if denominator==0:\n",
        "     raise ValueError(\"invalid\")\n",
        "    self.numerator=numerator\n",
        "    self.denominator=denominator\n",
        "  def __str__(self):\n",
        "    return f\"{self.numerator}/{self.denominator}\"\n",
        "\n",
        "if __name__==\"__main__\":\n",
        "  f1= fraction(2,3)\n",
        "  print(f1)\n",
        "\n"
      ],
      "metadata": {
        "colab": {
          "base_uri": "https://localhost:8080/"
        },
        "id": "Q2nEA1BGHjfB",
        "outputId": "21bae45f-6f22-4263-cdcb-0d939ad9813d"
      },
      "execution_count": null,
      "outputs": [
        {
          "output_type": "stream",
          "name": "stdout",
          "text": [
            "2/3\n"
          ]
        }
      ]
    },
    {
      "cell_type": "code",
      "source": [
        "#. Demonstrate operator overloading by creating a class Vector and overriding the add method to add two\n",
        "#vectors.\n",
        "\n",
        "class vector:\n",
        "  def __init__(self,x,y):\n",
        "    self.x=x\n",
        "    self.y=y\n",
        "  def __add__(self,other):\n",
        "    return vector(self.x+other.x,self.y+other.y)\n",
        "\n",
        "  def __str__(self):\n",
        "    return f\"({self.x}+{self.y})\"\n",
        "\n",
        "if __name__==\"__main__\":\n",
        "  v1=vector(1,2)\n",
        "  v2=vector(3,4)\n",
        "  v3=v1+v2\n",
        "  print(v3)\n",
        "\n",
        "\n",
        "\n",
        "\n",
        "\n",
        "\n",
        "\n"
      ],
      "metadata": {
        "colab": {
          "base_uri": "https://localhost:8080/"
        },
        "id": "rj2IafPdLFmA",
        "outputId": "d6517a2f-0cdf-4fd4-a69e-5c2f514c91e5"
      },
      "execution_count": null,
      "outputs": [
        {
          "output_type": "stream",
          "name": "stdout",
          "text": [
            "(4+6)\n"
          ]
        }
      ]
    },
    {
      "cell_type": "code",
      "source": [
        "#1. Create a class Person with attributes name and age. Add a method greet() that prints \"Hello, my name is\n",
        "#{name} and I am {age} years old.\"\n",
        "\n",
        "class person:\n",
        "  def __init__(self,name,age):\n",
        "    self.name=name\n",
        "    self.age=age\n",
        "  def greet(self):\n",
        "      return f\"hello my name is {self.name} and i am {self.age} years old\"\n",
        "\n",
        "person1=person(\"nimmi\",21)\n",
        "person1.greet()"
      ],
      "metadata": {
        "id": "ngMNHIH7O5lf",
        "colab": {
          "base_uri": "https://localhost:8080/",
          "height": 36
        },
        "outputId": "1bcab1db-005d-4e36-e3dd-0665e920b092"
      },
      "execution_count": null,
      "outputs": [
        {
          "output_type": "execute_result",
          "data": {
            "text/plain": [
              "'hello my name is nimmi and i am 21 years old'"
            ],
            "application/vnd.google.colaboratory.intrinsic+json": {
              "type": "string"
            }
          },
          "metadata": {},
          "execution_count": 8
        }
      ]
    },
    {
      "cell_type": "code",
      "source": [
        "#. Implement a class Student with attributes name and grades. Create a method average_grade() to compute\n",
        "#the average of the grades\n",
        "\n",
        "class student:\n",
        "\n",
        "\n",
        "  def __init__(self,name,grades):\n",
        "    self.name= name\n",
        "    self.grades = grades\n",
        "  def average_grade(self):\n",
        "    return sum(self.grades)/len(self.grades)\n",
        "\n",
        "name1=student(\"nimmi\",[1,2,3,4])\n",
        "name1.average_grade()"
      ],
      "metadata": {
        "id": "2404o0cnnpYF",
        "colab": {
          "base_uri": "https://localhost:8080/"
        },
        "outputId": "895303e3-8125-4953-9721-1e510d7111e3"
      },
      "execution_count": null,
      "outputs": [
        {
          "output_type": "execute_result",
          "data": {
            "text/plain": [
              "2.5"
            ]
          },
          "metadata": {},
          "execution_count": 12
        }
      ]
    },
    {
      "cell_type": "code",
      "source": [
        "# Create a class Rectangle with methods set_dimensions() to set the dimensions and area() to calculate the\n",
        "#area.\n",
        "\n",
        "class rectangle:\n",
        "\n",
        "  def __init__(self,length,width):\n",
        "    self.length=length\n",
        "    self.width=width\n",
        "  def set_dimensions(self,length,width):\n",
        "      self.length=length\n",
        "      self.width=width\n",
        "  def area(self):\n",
        "      return self.length*self.width\n",
        "\n",
        "rectangle1=rectangle(2,3)\n",
        "rectangle1.area()\n",
        "\n",
        "\n",
        "\n"
      ],
      "metadata": {
        "colab": {
          "base_uri": "https://localhost:8080/"
        },
        "id": "Rr-d6zhS2m5j",
        "outputId": "c1812016-b9f6-4c26-fb91-a59e6a478daa"
      },
      "execution_count": null,
      "outputs": [
        {
          "output_type": "execute_result",
          "data": {
            "text/plain": [
              "6"
            ]
          },
          "metadata": {},
          "execution_count": 16
        }
      ]
    },
    {
      "cell_type": "code",
      "source": [
        "#4. Create a class Employee with a method calculate_salary() that computes the salary based on hours worked\n",
        "#and hourly rate. Create a derived class Manager that adds a bonus to the salary.\n",
        "\n",
        "\n",
        "class Employee:\n",
        "    def __init__(self, name, hours_worked, hourly_rate):\n",
        "        self.name = name\n",
        "        self.hours_worked = hours_worked\n",
        "        self.hourly_rate = hourly_rate\n",
        "\n",
        "    def calculate_salary(self):\n",
        "        return self.hours_worked * self.hourly_rate\n",
        "\n",
        "\n",
        "class Manager(Employee):\n",
        "    def __init__(self, name, hours_worked, hourly_rate, bonus):\n",
        "        super().__init__(name, hours_worked, hourly_rate)\n",
        "        self.bonus = bonus\n",
        "\n",
        "    def calculate_salary(self):\n",
        "        base_salary = super().calculate_salary()\n",
        "        return base_salary + self.bonus\n",
        "\n",
        "\n",
        "# Example usage:\n",
        "employee1 = Employee(\"Alice\", 40, 20)\n",
        "print(f\"{employee1.name}'s Salary: ${employee1.calculate_salary()}\")  # Output: 800\n",
        "\n",
        "manager1 = Manager(\"Bob\", 40, 30, 500)\n",
        "print(f\"{manager1.name}'s Salary: ${manager1.calculate_salary()}\")  # Output: 1700\n"
      ],
      "metadata": {
        "colab": {
          "base_uri": "https://localhost:8080/"
        },
        "id": "mTtRnmt05kZZ",
        "outputId": "af0c5b71-ab0b-483b-90f3-a7d1022353ef"
      },
      "execution_count": null,
      "outputs": [
        {
          "output_type": "stream",
          "name": "stdout",
          "text": [
            "Alice's Salary: $800\n",
            "Bob's Salary: $1700\n"
          ]
        }
      ]
    },
    {
      "cell_type": "code",
      "source": [
        "# Create a class Product with attributes name, price, and quantity. Implement a method total_price() that\n",
        "#calculates the total price of the product.\n",
        "\n",
        "class product:\n",
        "  def __init__(self,name,price,quantity):\n",
        "    self.name=name\n",
        "    self.price=price\n",
        "    self.quantity=quantity\n",
        "  def total_price(self):\n",
        "    return self.price*self.quantity\n",
        "\n",
        "product1=product(\"pen\",2,3)\n",
        "product1.total_price()"
      ],
      "metadata": {
        "colab": {
          "base_uri": "https://localhost:8080/"
        },
        "id": "7jhWfD0R6AJh",
        "outputId": "eb147267-d30a-4b17-adc9-ed1d386abf8a"
      },
      "execution_count": null,
      "outputs": [
        {
          "output_type": "execute_result",
          "data": {
            "text/plain": [
              "6"
            ]
          },
          "metadata": {},
          "execution_count": 18
        }
      ]
    },
    {
      "cell_type": "code",
      "source": [
        "#Create a class Animal with an abstract method sound(). Create two derived classes Cow and Sheep that\n",
        "#implement the sound() method.\n",
        "\n",
        "from abc import ABC, abstractmethod\n",
        "\n",
        "class Animal(ABC):\n",
        "    @abstractmethod\n",
        "    def sound(self):\n",
        "        pass\n",
        "\n",
        "class Cow(Animal):\n",
        "    def sound(self):\n",
        "        return \"Moo\"\n",
        "\n",
        "class Sheep(Animal):\n",
        "    def sound(self):\n",
        "        return \"Baa\"\n",
        "\n",
        "# Example usage:\n",
        "cow = Cow()\n",
        "sheep = Sheep()\n",
        "\n",
        "print(f\"Cow: {cow.sound()}\")    # Output: Moo\n",
        "print(f\"Sheep: {sheep.sound()}\")  # Output: Baa\n"
      ],
      "metadata": {
        "id": "n6IYYRe97E_T"
      },
      "execution_count": null,
      "outputs": []
    },
    {
      "cell_type": "code",
      "source": [
        "# Create a class Book with attributes title, author, and year_published. Add a method get_book_info() that\n",
        "#returns a formatted string with the book's details\n",
        "\n",
        "class Book:\n",
        "    def __init__(self, title, author, year_published):\n",
        "        self.title = title\n",
        "        self.author = author\n",
        "        self.year_published = year_published\n",
        "\n",
        "    def get_book_info(self):\n",
        "        return f\"'{self.title}' by {self.author}, published in {self.year_published}.\"\n",
        "\n",
        "# Example usage:\n",
        "book1 = Book(\"To Kill a Mockingbird\", \"Harper Lee\", 1960)\n",
        "print(book1.get_book_info())  # Output: 'To Kill a Mockingbird' by Harper Lee, published in 1960.\n"
      ],
      "metadata": {
        "colab": {
          "base_uri": "https://localhost:8080/"
        },
        "id": "h7OGY4Mu7Vub",
        "outputId": "a85b2b3a-4785-4643-f7b2-57088399929a"
      },
      "execution_count": null,
      "outputs": [
        {
          "output_type": "stream",
          "name": "stdout",
          "text": [
            "'To Kill a Mockingbird' by Harper Lee, published in 1960.\n"
          ]
        }
      ]
    },
    {
      "cell_type": "code",
      "source": [
        "#Create a class House with attributes address and price. Create a derived class Mansion that adds an\n",
        "#attribute number_of_rooms.\n",
        "\n",
        "class House:\n",
        "    def __init__(self, address, price):\n",
        "        self.address = address\n",
        "        self.price = price\n",
        "\n",
        "    def get_info(self):\n",
        "        return f\"Address: {self.address}, Price: ${self.price}\"\n",
        "\n",
        "class Mansion(House):\n",
        "    def __init__(self, address, price, number_of_rooms):\n",
        "        super().__init__(address, price)\n",
        "        self.number_of_rooms = number_of_rooms\n",
        "\n",
        "    def get_info(self):\n",
        "        return f\"Address: {self.address}, Price: ${self.price}, Rooms: {self.number_of_rooms}\"\n",
        "\n",
        "# Example usage:\n",
        "house1 = House(\"123 Maple St\", 250000)\n",
        "print(house1.get_info())  # Output: Address: 123 Maple St, Price: $250000\n",
        "\n",
        "mansion1 = Mansion(\"456 Oak Ave\", 5000000, 15)\n",
        "print(mansion1.get_info())  # Output: Address: 456 Oak Ave, Price: $5000000, Rooms: 15\n"
      ],
      "metadata": {
        "colab": {
          "base_uri": "https://localhost:8080/"
        },
        "id": "7p2Uc2xY7x2B",
        "outputId": "52d1888c-12c0-4921-9fb3-1023620feea0"
      },
      "execution_count": null,
      "outputs": [
        {
          "output_type": "stream",
          "name": "stdout",
          "text": [
            "Address: 123 Maple St, Price: $250000\n",
            "Address: 456 Oak Ave, Price: $5000000, Rooms: 15\n"
          ]
        }
      ]
    },
    {
      "cell_type": "markdown",
      "source": [
        "#What is Object-Oriented Programming (OOP)?\n",
        "Object-Oriented Programming (OOP) is a programming paradigm that organizes software design around objects rather than functions and logic. It focuses on creating reusable, modular, and scalable code by using concepts like:\n",
        "\n",
        "Classes and Objects: Blueprints and instances.\n",
        "\n",
        "Inheritance: Reusing code by creating parent-child relationships.\n",
        "\n",
        "Polymorphism: Using a single interface for different data types.\n",
        "\n",
        "Encapsulation: Hiding internal details and exposing only necessary functionality.\n",
        "\n",
        "Abstraction: Simplifying complex systems by modeling relevant attributes.\n",
        "\n",
        "OOP is widely used in languages like Python, Java, C++, and C#."
      ],
      "metadata": {
        "id": "OkgTsBW213ar"
      }
    },
    {
      "cell_type": "markdown",
      "source": [
        "#What is a class in OOP?\n",
        "A class is a blueprint or template for creating objects. It defines:\n",
        "\n",
        "Attributes: Variables that hold data (e.g., name, age).\n",
        "\n",
        "Methods: Functions that define behavior (e.g., calculate_salary()"
      ],
      "metadata": {
        "id": "pk0YBKoC2CZT"
      }
    },
    {
      "cell_type": "markdown",
      "source": [
        "#What is an object in OOP?\n",
        "An object is an instance of a class. It represents a specific entity with its own state (attributes) and behavior (methods)."
      ],
      "metadata": {
        "id": "7GXGUo6d2LBb"
      }
    },
    {
      "cell_type": "markdown",
      "source": [
        "#What is the difference between abstraction and encapsulation?\n",
        "Abstraction: Focuses on hiding complex implementation details and showing only the essential features. For example, a car’s steering wheel abstracts the complexity of the engine.\n",
        "\n",
        "Encapsulation: Bundles data (attributes) and methods that operate on the data into a single unit (class) and restricts access to the internal state. It is achieved using access modifiers like private or protected."
      ],
      "metadata": {
        "id": "NwJrEpEe2RZB"
      }
    },
    {
      "cell_type": "markdown",
      "source": [
        "#What are dunder methods in Python?\n",
        "Dunder (double underscore) methods, also called magic methods, are special methods in Python that start and end with double underscores (e.g., __init__, __str__). They allow custom behavior for built-in operations.\n",
        "\n",
        "Examples:\n",
        "\n",
        "__init__: Constructor for object initialization.\n",
        "\n",
        "__str__: Defines the string representation of an object.\n",
        "\n",
        "__add__: Defines behavior for the + operator."
      ],
      "metadata": {
        "id": "rjV5Qa-m2W5D"
      }
    },
    {
      "cell_type": "markdown",
      "source": [
        "#Explain the concept of inheritance in OOP\n",
        "Inheritance allows a class (child) to inherit attributes and methods from another class (parent). It promotes code reuse and hierarchical classification."
      ],
      "metadata": {
        "id": "IWQ7hfE22dyt"
      }
    },
    {
      "cell_type": "markdown",
      "source": [
        "#What is polymorphism in OOP?\n",
        "Polymorphism allows objects of different classes to be treated as objects of a common superclass. It enables methods to behave differently based on the object calling them."
      ],
      "metadata": {
        "id": "cNiZ_Bl_2hnP"
      }
    },
    {
      "cell_type": "markdown",
      "source": [
        "#How is encapsulation achieved in Python?\n",
        "Encapsulation in Python is achieved using:\n",
        "\n",
        "Private attributes: Prefix with __ (double underscore).\n",
        "\n",
        "Protected attributes: Prefix with _ (single underscore).\n",
        "\n",
        "Getter and Setter methods: To control access to private attributes."
      ],
      "metadata": {
        "id": "0g1C55cY2nYI"
      }
    },
    {
      "cell_type": "markdown",
      "source": [
        "#What is a constructor in Python?\n",
        "A constructor is a special method (__init__) that is automatically called when an object is created. It initializes the object’s attributes."
      ],
      "metadata": {
        "id": "ctxd-PGj2tyg"
      }
    },
    {
      "cell_type": "markdown",
      "source": [
        "#What are class and static methods in Python?\n",
        "Class Method: Bound to the class rather than the instance. It takes cls as the first parameter and can modify class state. Defined using @classmethod.\n",
        "\n",
        "Static Method: Not bound to the class or instance. It behaves like a regular function but belongs to the class’s namespace. Defined using @staticmethod."
      ],
      "metadata": {
        "id": "c-Cqk-LR2yQv"
      }
    },
    {
      "cell_type": "markdown",
      "source": [
        "#What is method overloading in Python?\n",
        "Method overloading allows a class to have multiple methods with the same name but different parameters. However, Python does not support method overloading directly like other languages (e.g., Java). Instead, you can achieve similar functionality using default arguments or variable-length arguments (*args, **kwargs)."
      ],
      "metadata": {
        "id": "ad3YgVT_22Ut"
      }
    },
    {
      "cell_type": "markdown",
      "source": [
        "#What is method overriding in OOP?\n",
        "Method overriding occurs when a subclass provides a specific implementation of a method that is already defined in its superclass. It allows the subclass to customize or extend the behavior of the inherited method."
      ],
      "metadata": {
        "id": "l9Norxk-3LNe"
      }
    },
    {
      "cell_type": "markdown",
      "source": [
        "#What is a property decorator in Python?\n",
        "The @property decorator is used to define a method as a getter for a class attribute. It allows you to access the method like an attribute without using parentheses. You can also define setters and deleters using @<attribute>.setter and @<attribute>.deleter."
      ],
      "metadata": {
        "id": "cVmULXkF3OXz"
      }
    },
    {
      "cell_type": "markdown",
      "source": [
        "#Why is polymorphism important in OOP?\n",
        "Polymorphism is important because:\n",
        "\n",
        "Code Reusability: Allows the same interface to be used for different data types.\n",
        "\n",
        "Flexibility: Enables objects of different classes to be treated as objects of a common superclass.\n",
        "\n",
        "Simplifies Code: Reduces the need for conditional logic by relying on dynamic method binding."
      ],
      "metadata": {
        "id": "fe0jAD9R3S_l"
      }
    },
    {
      "cell_type": "markdown",
      "source": [
        "#What is an abstract class in Python?\n",
        "An abstract class is a class that cannot be instantiated and is meant to be a blueprint for other classes. It contains one or more abstract methods (methods without implementation). Abstract classes are created using the abc module."
      ],
      "metadata": {
        "id": "fPj0pjhh3XMn"
      }
    },
    {
      "cell_type": "markdown",
      "source": [
        "#What are the advantages of OOP?\n",
        "Modularity: Code is organized into reusable classes and objects.\n",
        "\n",
        "Reusability: Inheritance allows code reuse.\n",
        "\n",
        "Scalability: Easier to maintain and extend.\n",
        "\n",
        "Abstraction: Simplifies complex systems.\n",
        "\n",
        "Encapsulation: Protects data integrity by restricting access.\n",
        "\n"
      ],
      "metadata": {
        "id": "m-PFpI0q3ayV"
      }
    },
    {
      "cell_type": "markdown",
      "source": [
        "#What is the difference between a class variable and an instance variable?\n",
        "Class Variable: Shared across all instances of a class. Defined outside any method.\n",
        "\n",
        "Instance Variable: Unique to each instance of a class. Defined inside __init__ or other methods"
      ],
      "metadata": {
        "id": "m8QCCoi63ede"
      }
    },
    {
      "cell_type": "markdown",
      "source": [
        "#What is multiple inheritance in Python?\n",
        "Multiple inheritance allows a class to inherit from more than one parent class. Python supports this, but it can lead to complexity (e.g., the diamond problem)."
      ],
      "metadata": {
        "id": "bYWyKP943ibY"
      }
    },
    {
      "cell_type": "markdown",
      "source": [
        "#Explain the purpose of __str__ and __repr__ methods in Python\n",
        "__str__: Provides a user-friendly string representation of an object. Used by print() and str().\n",
        "\n",
        "__repr__: Provides a detailed, unambiguous string representation of an object. Used by repr() and is a fallback for __str__."
      ],
      "metadata": {
        "id": "Qhtzo7bh3mAJ"
      }
    },
    {
      "cell_type": "markdown",
      "source": [
        "#What is the significance of the super() function in Python?\n",
        "The super() function is used to call a method from the parent class. It is commonly used in inheritance to extend or override parent class behavior without explicitly naming the parent class."
      ],
      "metadata": {
        "id": "HT4Z5Yzg3qJR"
      }
    },
    {
      "cell_type": "markdown",
      "source": [
        "#What is the significance of the __del__ method in Python?\n",
        "The __del__ method is a special method in Python that acts as a destructor. It is automatically called when an object is about to be destroyed (e.g., when it goes out of scope or is explicitly deleted using del). It is used to perform cleanup actions, such as releasing resources."
      ],
      "metadata": {
        "id": "y7hwUiyZ3uVM"
      }
    },
    {
      "cell_type": "markdown",
      "source": [
        "#What is the difference between @staticmethod and @classmethod in Python?\n",
        "Feature\t@staticmethod\t@classmethod\n",
        "Binding\tNot bound to the class or instance.\tBound to the class (not the instance).\n",
        "First Parameter\tNo implicit first parameter.\tTakes cls (class) as the first parameter.\n",
        "Use Case\tUtility functions that don’t need class or instance data.\tMethods that need to access or modify class-level data."
      ],
      "metadata": {
        "id": "oWTzkHyL6ZRu"
      }
    },
    {
      "cell_type": "markdown",
      "source": [
        "#How does polymorphism work in Python with inheritance?\n",
        "Polymorphism allows objects of different classes to be treated as objects of a common superclass. In Python, polymorphism is achieved through method overriding in inheritance. The same method name can behave differently based on the object’s class."
      ],
      "metadata": {
        "id": "V9ItDSZl6gUY"
      }
    },
    {
      "cell_type": "markdown",
      "source": [
        "#What is method chaining in Python OOP?\n",
        "Method chaining is a technique where multiple methods are called on an object in a single statement. Each method returns the object itself (self), allowing the next method to be called on the same object."
      ],
      "metadata": {
        "id": "AtmI5soK6rAl"
      }
    },
    {
      "cell_type": "markdown",
      "source": [
        "#What is the purpose of the __call__ method in Python?\n",
        "The __call__ method allows an object to be called like a function. When an object is called, Python invokes the __call__ method. This is useful for creating callable objects or implementing function-like behavior in classes."
      ],
      "metadata": {
        "id": "5phNvkmh6iOF"
      }
    },
    {
      "cell_type": "markdown",
      "source": [],
      "metadata": {
        "id": "DcYFz8iCVRkW"
      }
    }
  ]
}